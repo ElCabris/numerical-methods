{
 "cells": [
  {
   "cell_type": "markdown",
   "id": "d48bebbb-4b28-43fd-978a-3d8b093a7bbb",
   "metadata": {},
   "source": [
    "## Punto 2\n",
    "Un objeto cae verticalmente en el aire está sujeto a una resistencia viscosa y también ala fuerza de gravedad. Suponga que dejamos caer un objeto de masa $m$ desde una altura $s_o$ y que la altura del objeto después de $t$ segundos es\n",
    "$$\n",
    "s(t) = s_o - \\frac{mg}{k}t + \\frac{m^2g}{k}(1 - e^{-kt/m})\n",
    "$$\n",
    "donde $g = 32.17 ft/s^2$ y $k$ representa el coeficiente de resistencia del aire en $lb - s/pies$ Suponga que $s_o =3300 ft$ y $k = 0.1lb/ft$"
   ]
  },
  {
   "cell_type": "code",
   "execution_count": 1,
   "id": "f8e40e84-d563-4bca-8886-be402e07b95c",
   "metadata": {},
   "outputs": [],
   "source": [
    "import pymethods as pm\n",
    "import math\n",
    "import sympy as sp\n",
    "import matplotlib.pyplot as plt\n",
    "import numpy as np"
   ]
  },
  {
   "cell_type": "code",
   "execution_count": 2,
   "id": "fbf8bfd1-0c1a-436b-b6ec-a37d23f7aa20",
   "metadata": {},
   "outputs": [],
   "source": [
    "g = 32.17\n",
    "s_o = 3300\n",
    "k = 0.1"
   ]
  },
  {
   "cell_type": "code",
   "execution_count": 3,
   "id": "9c1b5fae-ef6b-4ca0-be27-f8fcc1640b62",
   "metadata": {},
   "outputs": [],
   "source": [
    "tol = 0.00001 * (1/100)"
   ]
  },
  {
   "cell_type": "markdown",
   "id": "e0012932-1f16-47d4-bbb2-965cf100cc1c",
   "metadata": {},
   "source": [
    "### solución 2.a"
   ]
  },
  {
   "cell_type": "code",
   "execution_count": 4,
   "id": "d4076b81-444d-40ff-9073-93feff6a9fd5",
   "metadata": {},
   "outputs": [],
   "source": [
    "m = 1/4"
   ]
  },
  {
   "cell_type": "code",
   "execution_count": 5,
   "id": "baf2d47e-f105-4777-bfa7-3d88d5879c92",
   "metadata": {},
   "outputs": [],
   "source": [
    "s = lambda t: s_o - (((m * g) / k) * t) + ((m**2 * g)/k)*(1 - math.exp((-1*k *t)/m))"
   ]
  },
  {
   "cell_type": "code",
   "execution_count": 6,
   "id": "c191515e-6d6f-4779-9951-368bbaa58ff8",
   "metadata": {},
   "outputs": [
    {
     "data": {
      "text/plain": [
       "3300.0"
      ]
     },
     "execution_count": 6,
     "metadata": {},
     "output_type": "execute_result"
    }
   ],
   "source": [
    "s(0)"
   ]
  },
  {
   "cell_type": "code",
   "execution_count": 7,
   "id": "fc25daa6-7dce-44e4-a007-a914c7b25b62",
   "metadata": {},
   "outputs": [
    {
     "data": {
      "text/plain": [
       "-701.1437500414421"
      ]
     },
     "execution_count": 7,
     "metadata": {},
     "output_type": "execute_result"
    }
   ],
   "source": [
    "s(50)"
   ]
  },
  {
   "cell_type": "code",
   "execution_count": 8,
   "id": "c55f6fa2-c7cc-4845-9766-472031789eb0",
   "metadata": {},
   "outputs": [],
   "source": [
    "a, b = (0, 50)"
   ]
  },
  {
   "cell_type": "code",
   "execution_count": 9,
   "id": "2c54e6d0-1ad6-457d-875d-74ac859cb8a4",
   "metadata": {},
   "outputs": [],
   "source": [
    "t_stimate = pm.bisection(s, a, b, tol)"
   ]
  },
  {
   "cell_type": "code",
   "execution_count": 10,
   "id": "d2740b62-1bed-4828-8759-461887a7bd0d",
   "metadata": {},
   "outputs": [
    {
     "data": {
      "text/plain": [
       "(41.28201739076758, -7.391491863018018e-09)"
      ]
     },
     "execution_count": 10,
     "metadata": {},
     "output_type": "execute_result"
    }
   ],
   "source": [
    "t_stimate, s(t_stimate)"
   ]
  },
  {
   "cell_type": "code",
   "execution_count": 11,
   "id": "135b4463-8a8f-406d-84f5-59186ff792f7",
   "metadata": {},
   "outputs": [],
   "source": [
    "assert s(t_stimate) <= tol # esto prueba que el resultado es menor que la tolerancia"
   ]
  },
  {
   "cell_type": "markdown",
   "id": "2fa45bdc-145c-48b4-a157-5ad4607c85cd",
   "metadata": {},
   "source": [
    "### solución punto 2.b"
   ]
  },
  {
   "cell_type": "code",
   "execution_count": 12,
   "id": "a71864d5-b1a3-4545-86e0-991ae7998ec5",
   "metadata": {},
   "outputs": [],
   "source": [
    "t_stimate = pm.false_position(s, a, b, tol)"
   ]
  },
  {
   "cell_type": "code",
   "execution_count": 13,
   "id": "2987712a-3a92-402c-b4de-4b14093f79e9",
   "metadata": {},
   "outputs": [
    {
     "data": {
      "text/plain": [
       "(41.282017390461, 1.7265364249396953e-08)"
      ]
     },
     "execution_count": 13,
     "metadata": {},
     "output_type": "execute_result"
    }
   ],
   "source": [
    "t_stimate, s(t_stimate)"
   ]
  },
  {
   "cell_type": "code",
   "execution_count": 14,
   "id": "b825050e-797f-4e5a-885d-8bd7964866e8",
   "metadata": {},
   "outputs": [],
   "source": [
    "assert s(t_stimate) <= tol"
   ]
  },
  {
   "cell_type": "markdown",
   "id": "e9393346-f573-4b5d-b670-77666293c509",
   "metadata": {},
   "source": [
    "### Punto 3\n",
    "\n",
    "Determine el polinomio de Taylor $P_5(x)$ para la función $f(x) = \\sin^{-1}(x)$ en torno a $x_0 = 0.75$\n",
    "\n",
    "- Use $P_5(1)$ para aproximar $f(1)$\n",
    "- Determine una cota superior para el error $|f(1) - P_5(1)|$ por medio de la fórmula del error, es decir $R_5(1)$\n",
    "- Aproxime $\\int_{0.75}^{1}f(x)$ usando $\\int_{0.75}^{1}P_5(x)dx$ y calcule el error absoluto y relativo.\n",
    "- Realice una gráfica del polinomio y de la función"
   ]
  },
  {
   "cell_type": "code",
   "execution_count": 15,
   "id": "e9ad790a-52f7-47cb-b546-df3289bbf58f",
   "metadata": {},
   "outputs": [],
   "source": [
    "x = sp.Symbol('x')\n",
    "x_0 = 0.75\n",
    "f = sp.asin(x)"
   ]
  },
  {
   "cell_type": "markdown",
   "id": "f5739a43-6320-4ac8-a50f-4dcd6a3adbd8",
   "metadata": {},
   "source": [
    "### Solución Punto 3.a"
   ]
  },
  {
   "cell_type": "code",
   "execution_count": 16,
   "id": "82aed81e-5147-451b-b140-891090f0863d",
   "metadata": {},
   "outputs": [],
   "source": [
    "P5 = pm.taylor_polynomial(f, x, x_0, 5)"
   ]
  },
  {
   "cell_type": "code",
   "execution_count": 17,
   "id": "97259948-769b-4480-9cfd-b882f653ba58",
   "metadata": {},
   "outputs": [
    {
     "data": {
      "text/latex": [
       "$\\displaystyle 1.51185789203691 x + 19.6338769512805 \\left(x - 0.75\\right)^{5} + 6.98187434689931 \\left(x - 0.75\\right)^{4} + 2.79745133764653 \\left(x - 0.75\\right)^{3} + 1.29587819317449 \\left(x - 0.75\\right)^{2} - 0.285831340046201$"
      ],
      "text/plain": [
       "1.51185789203691*x + 19.6338769512805*(x - 0.75)**5 + 6.98187434689931*(x - 0.75)**4 + 2.79745133764653*(x - 0.75)**3 + 1.29587819317449*(x - 0.75)**2 - 0.285831340046201"
      ]
     },
     "execution_count": 17,
     "metadata": {},
     "output_type": "execute_result"
    }
   ],
   "source": [
    "P5"
   ]
  },
  {
   "cell_type": "markdown",
   "id": "8a4371e0-3288-42fa-989e-b8bf5115e2e2",
   "metadata": {},
   "source": [
    "### Solución Punto 3.d"
   ]
  },
  {
   "cell_type": "code",
   "execution_count": 18,
   "id": "768c0595-fb15-4d11-9cc2-da6a3e05ec9b",
   "metadata": {},
   "outputs": [],
   "source": [
    "interval = np.linspace(-1, 1, 1000)"
   ]
  },
  {
   "cell_type": "code",
   "execution_count": 19,
   "id": "73d080b9-e916-455d-a7a6-6901fdb857e8",
   "metadata": {},
   "outputs": [],
   "source": [
    "exact_values = [f.evalf(subs={x: i}) for i in interval]"
   ]
  },
  {
   "cell_type": "code",
   "execution_count": 20,
   "id": "d32f5f20-9a73-4043-83b5-6b1167a497fa",
   "metadata": {},
   "outputs": [],
   "source": [
    "aprox_values = [P5.evalf(subs={x: i}) for i in interval]"
   ]
  },
  {
   "cell_type": "code",
   "execution_count": 21,
   "id": "49625e83-59d8-4335-a83f-dd0df27b7276",
   "metadata": {},
   "outputs": [
    {
     "data": {
      "text/plain": [
       "[<matplotlib.lines.Line2D at 0x7f40bda41310>]"
      ]
     },
     "execution_count": 21,
     "metadata": {},
     "output_type": "execute_result"
    },
    {
     "data": {
      "image/png": "[encoded data removed]",
      "text/plain": [
       "<Figure size 640x480 with 1 Axes>"
      ]
     },
     "metadata": {},
     "output_type": "display_data"
    }
   ],
   "source": [
    "plt.plot(interval, exact_values)"
   ]
  },
  {
   "cell_type": "code",
   "execution_count": 22,
   "id": "dfd1769a-e53b-4969-a46e-c4168f99ba29",
   "metadata": {},
   "outputs": [
    {
     "data": {
      "text/plain": [
       "[<matplotlib.lines.Line2D at 0x7f40bd7befd0>]"
      ]
     },
     "execution_count": 22,
     "metadata": {},
     "output_type": "execute_result"
    },
    {
     "data": {
      "image/png": "[encoded data removed]",
      "text/plain": [
       "<Figure size 640x480 with 1 Axes>"
      ]
     },
     "metadata": {},
     "output_type": "display_data"
    }
   ],
   "source": [
    "plt.plot(interval, aprox_values)"
   ]
  },
  {
   "cell_type": "markdown",
   "id": "9dc85707-52f1-4718-90aa-e02390234585",
   "metadata": {},
   "source": [
    "### Solución Punto 3.b"
   ]
  },
  {
   "cell_type": "code",
   "execution_count": 23,
   "id": "db082fae-d35c-4979-b7ff-681fce9f6ce0",
   "metadata": {},
   "outputs": [],
   "source": [
    "pol, bound = pm.taylor_remainder_bound(f, x, x_0, 5, 1)"
   ]
  },
  {
   "cell_type": "code",
   "execution_count": 24,
   "id": "6663c113-40e6-48d2-9695-164b65bc06cd",
   "metadata": {},
   "outputs": [
    {
     "data": {
      "text/latex": [
       "$\\displaystyle \\frac{15 x \\left(63 x^{4} - 70 x^{2} \\left(x^{2} - 1\\right) + 15 \\left(x^{2} - 1\\right)^{2}\\right)}{\\left(1 - x^{2}\\right)^{\\frac{11}{2}}}$"
      ],
      "text/plain": [
       "15*x*(63*x**4 - 70*x**2*(x**2 - 1) + 15*(x**2 - 1)**2)/(1 - x**2)**(11/2)"
      ]
     },
     "execution_count": 24,
     "metadata": {},
     "output_type": "execute_result"
    }
   ],
   "source": [
    "pol # la 6ta derivada"
   ]
  },
  {
   "cell_type": "code",
   "execution_count": 25,
   "id": "2f96d5c3-760d-4b3c-965f-3b12a35e9b73",
   "metadata": {},
   "outputs": [
    {
     "data": {
      "text/plain": [
       "inf"
      ]
     },
     "execution_count": 25,
     "metadata": {},
     "output_type": "execute_result"
    }
   ],
   "source": [
    "bound # error numerico de |R_n(x)|"
   ]
  },
  {
   "cell_type": "markdown",
   "id": "6fe09c63-7c61-4390-b422-42a5bfdb7e15",
   "metadata": {},
   "source": [
    "## Solción Punto 3.c"
   ]
  },
  {
   "cell_type": "code",
   "execution_count": 26,
   "id": "10cfdd1c-09f8-4878-b819-40173344fa7c",
   "metadata": {},
   "outputs": [],
   "source": [
    "interval = np.linspace(0.75, 1, 1000) # aproximación con 1000 puntos"
   ]
  },
  {
   "cell_type": "markdown",
   "id": "d60031a5-4f2d-41d8-acd8-dce4bccc5d8e",
   "metadata": {},
   "source": [
    "#### Aproximación con P5"
   ]
  },
  {
   "cell_type": "code",
   "execution_count": 27,
   "id": "e91cc744-5068-437f-aff2-0f1f20b7518a",
   "metadata": {},
   "outputs": [],
   "source": [
    "result =0 \n",
    "for i in interval:\n",
    "    result += P5.evalf(subs={x: i})"
   ]
  },
  {
   "cell_type": "code",
   "execution_count": 28,
   "id": "7d911f8f-f132-4dc4-b02e-4c2918500fcd",
   "metadata": {},
   "outputs": [
    {
     "data": {
      "text/latex": [
       "$\\displaystyle 1083.65857040177$"
      ],
      "text/plain": [
       "1083.65857040177"
      ]
     },
     "execution_count": 28,
     "metadata": {},
     "output_type": "execute_result"
    }
   ],
   "source": [
    "result"
   ]
  },
  {
   "cell_type": "markdown",
   "id": "baeef28d-1bbd-4315-9034-6522ed626042",
   "metadata": {},
   "source": [
    "#### Resultado exacto con $\\arcsin(x)$"
   ]
  },
  {
   "cell_type": "code",
   "execution_count": 29,
   "id": "846a9a7c-962b-4ebb-b749-7397afed7240",
   "metadata": {},
   "outputs": [],
   "source": [
    "resultado_exacto = sp.integrate(f, (x, 0.75, 1))"
   ]
  },
  {
   "cell_type": "code",
   "execution_count": 30,
   "id": "59d27c04-3440-4227-a43f-1f7c0ab78e43",
   "metadata": {},
   "outputs": [
    {
     "data": {
      "text/latex": [
       "$\\displaystyle -1.29748438700226 + \\frac{\\pi}{2}$"
      ],
      "text/plain": [
       "-1.29748438700226 + pi/2"
      ]
     },
     "execution_count": 30,
     "metadata": {},
     "output_type": "execute_result"
    }
   ],
   "source": [
    "resultado_exacto"
   ]
  },
  {
   "cell_type": "code",
   "execution_count": 31,
   "id": "62a66756-f8b4-4b73-87f3-512cb68054eb",
   "metadata": {},
   "outputs": [
    {
     "data": {
      "text/latex": [
       "$\\displaystyle 1084.95605478877 - \\frac{\\pi}{2}$"
      ],
      "text/plain": [
       "1084.95605478877 - pi/2"
      ]
     },
     "execution_count": 31,
     "metadata": {},
     "output_type": "execute_result"
    }
   ],
   "source": [
    "# error absoluto\n",
    "pm.absolute_error(resultado_exacto, result)"
   ]
  },
  {
   "cell_type": "code",
   "execution_count": 32,
   "id": "e51d538a-3189-4168-9f1e-5ae08ae75b57",
   "metadata": {},
   "outputs": [
    {
     "data": {
      "text/latex": [
       "$\\displaystyle \\frac{1084.95605478877 - \\frac{\\pi}{2}}{-1.29748438700226 + \\frac{\\pi}{2}}$"
      ],
      "text/plain": [
       "(1084.95605478877 - pi/2)/(-1.29748438700226 + pi/2)"
      ]
     },
     "execution_count": 32,
     "metadata": {},
     "output_type": "execute_result"
    }
   ],
   "source": [
    "## error relativo\n",
    "pm.relative_error(resultado_exacto, result)"
   ]
  }
 ],
 "metadata": {
  "kernelspec": {
   "display_name": "numerical-analysis",
   "language": "python",
   "name": "numerical-analysis-env"
  },
  "language_info": {
   "codemirror_mode": {
    "name": "ipython",
    "version": 3
   },
   "file_extension": ".py",
   "mimetype": "text/x-python",
   "name": "python",
   "nbconvert_exporter": "python",
   "pygments_lexer": "ipython3",
   "version": "3.13.3"
  }
 },
 "nbformat": 4,
 "nbformat_minor": 5
}
