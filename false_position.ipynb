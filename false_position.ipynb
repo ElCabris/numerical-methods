{
 "cells": [
  {
   "cell_type": "code",
   "execution_count": 1,
   "id": "e5d2af09-05fd-4a81-9ba9-9fc1023f6ce7",
   "metadata": {},
   "outputs": [],
   "source": [
    "import pymethods as pm\n",
    "import math"
   ]
  },
  {
   "cell_type": "markdown",
   "id": "9d40be01-3ab1-403c-9ad8-07492aa87fd4",
   "metadata": {},
   "source": [
    "Usando el método de la posición falsa hallar una raíz para la ecuación $x - 2^{-x}$ en el intervalo $[0,1]$ con una tolerancia $\\varepsilon = 10^{-5}$"
   ]
  },
  {
   "cell_type": "code",
   "execution_count": 2,
   "id": "1782d006-198a-4e11-9c0c-dc1684c8fce4",
   "metadata": {},
   "outputs": [
    {
     "data": {
      "text/plain": [
       "0.6411865001073181"
      ]
     },
     "execution_count": 2,
     "metadata": {},
     "output_type": "execute_result"
    }
   ],
   "source": [
    "f = lambda x: x - 2**(-1 *x)\n",
    "tol = 10**(-1 * 5)\n",
    "pm.false_position(f, 0, 1, tol)"
   ]
  },
  {
   "cell_type": "markdown",
   "id": "6b24e1dd-c4ff-4a71-b82e-35ba376a1f89",
   "metadata": {},
   "source": [
    "una partícula parte del reposo sobre un plano inclinado uniforme, cuyo ángulo $\\theta$ cambia con una tasa constante de\n",
    "$$\n",
    "\\frac{d\\theta}{dt} = \\omega < 0\n",
    "$$\n",
    "al final de $t$ segundos, la posición del objeto está dada por\n",
    "$$\n",
    "x(t) = -\\frac{g}{2\\omega^2}\\left(\\frac{e^{\\omega t} - e^{\\omega t}}{2} - \\sin(\\omega t)\\right)\n",
    "$$\n",
    "suponga que la partícula se desplazó 1.7 en 1 segundo. Encuentre con una exactitud de $10^{-5}$"
   ]
  },
  {
   "cell_type": "markdown",
   "id": "3338bbdc-c715-41ca-b9df-96daee97b163",
   "metadata": {},
   "source": [
    "$$\n",
    "x(1;\\omega) = - \\frac{g}{2\\omega^{2}}\\left(\\frac{e^{\\omega } - e^{-\\omega }}{2} - \\sin(\\omega )\\right) = 1.7\n",
    "$$\n",
    "$$\n",
    "x(1; \\omega) - 1.7 = 0\n",
    "$$\n",
    "$$\n",
    "F(\\omega) = - \\frac{g}{2\\omega^{2}}\\left(\\frac{e^{\\omega } - e^{-\\omega}}{2} - \\sin(\\omega )\\right) - 1.7 = 0\n",
    "$$"
   ]
  },
  {
   "cell_type": "code",
   "execution_count": 9,
   "id": "e0203fcf-4b2d-416b-ae27-f114c2189ba8",
   "metadata": {},
   "outputs": [],
   "source": [
    "g = 32.17\n",
    "x = lambda w: -1 * (g/ (2 * w**2)) * (((math.exp(w) - math.exp(-1 * w)) / 2) - math.sin(w)) - 1.7"
   ]
  },
  {
   "cell_type": "code",
   "execution_count": 15,
   "id": "5c14bafb-5fd0-4ebb-a53a-0af2c7bd5e25",
   "metadata": {},
   "outputs": [],
   "source": [
    "tol = 10**-5"
   ]
  },
  {
   "cell_type": "code",
   "execution_count": 11,
   "id": "66fa9bae-874e-4d8a-a009-4f4958cad72c",
   "metadata": {},
   "outputs": [],
   "source": [
    "x_e = pm.bisection(x, -1, tol, tol)"
   ]
  },
  {
   "cell_type": "code",
   "execution_count": 12,
   "id": "622e37cf-ee89-4fe4-8f39-fb54dc7ee377",
   "metadata": {},
   "outputs": [],
   "source": [
    "assert x(x_e) < tol"
   ]
  },
  {
   "cell_type": "code",
   "execution_count": 13,
   "id": "b58d6a60-0a33-4e25-bff9-b5d4386dcf2e",
   "metadata": {},
   "outputs": [],
   "source": [
    "y_e = pm.false_position(x, -1, tol, tol)"
   ]
  },
  {
   "cell_type": "code",
   "execution_count": 14,
   "id": "eb35a172-71d7-40ec-b67a-e4a0bb668a35",
   "metadata": {},
   "outputs": [],
   "source": [
    "assert x(y_e) < tol"
   ]
  }
 ],
 "metadata": {
  "kernelspec": {
   "display_name": "numerical-analysis",
   "language": "python",
   "name": "numerical-analysis-env"
  },
  "language_info": {
   "codemirror_mode": {
    "name": "ipython",
    "version": 3
   },
   "file_extension": ".py",
   "mimetype": "text/x-python",
   "name": "python",
   "nbconvert_exporter": "python",
   "pygments_lexer": "ipython3",
   "version": "3.13.3"
  }
 },
 "nbformat": 4,
 "nbformat_minor": 5
}
