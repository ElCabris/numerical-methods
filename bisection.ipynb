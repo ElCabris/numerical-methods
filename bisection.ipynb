{
 "cells": [
  {
   "cell_type": "markdown",
   "id": "4ea1fad2-de0c-46e6-8173-e2fdd8d69252",
   "metadata": {},
   "source": [
    "## Bisección\n",
    "\n",
    "## cantidad de iteraciones\n",
    "donde $\\varepsilon$ es la presición\n",
    "$$\n",
    "N = \\left\\lceil \\frac{\\log\\left(\\frac{b - a}{\\varepsilon}\\right)}{\\log(2)}\\right\\rceil = \\left\\lceil\\log_2\\left(\\frac{b - a}{\\varepsilon}\\right)\\right\\rceil\n",
    "$$"
   ]
  },
  {
   "cell_type": "code",
   "execution_count": 2,
   "id": "bb44ce2d-f044-4a6b-a120-9547cc75dc20",
   "metadata": {},
   "outputs": [],
   "source": [
    "import pymethods as pm"
   ]
  },
  {
   "cell_type": "code",
   "execution_count": 12,
   "id": "740c0a99-00af-4e1b-a9b7-54cf96fbd441",
   "metadata": {},
   "outputs": [],
   "source": [
    "import math"
   ]
  },
  {
   "cell_type": "code",
   "execution_count": 5,
   "id": "4f05dbb8-834b-40da-8a93-5cf6de5b5888",
   "metadata": {},
   "outputs": [],
   "source": [
    "f = lambda x: x - 2**(-1 *x)"
   ]
  },
  {
   "cell_type": "code",
   "execution_count": 14,
   "id": "cd814f67-00ff-4155-8edb-7e1313efd0be",
   "metadata": {},
   "outputs": [],
   "source": [
    "tol = 10**(-1 * 5)"
   ]
  },
  {
   "cell_type": "code",
   "execution_count": 15,
   "id": "7d4fd15f-1dcc-431c-a5a3-40ca01ae897a",
   "metadata": {},
   "outputs": [
    {
     "data": {
      "text/plain": [
       "0.6411895751953125"
      ]
     },
     "execution_count": 15,
     "metadata": {},
     "output_type": "execute_result"
    }
   ],
   "source": [
    "pm.bisection(f, 0, 1, tol)"
   ]
  },
  {
   "cell_type": "code",
   "execution_count": 16,
   "id": "7eb3de2b-6ada-47d3-acf3-b9bc1c2cb2e0",
   "metadata": {},
   "outputs": [
    {
     "data": {
      "text/plain": [
       "0.25753021240234375"
      ]
     },
     "execution_count": 16,
     "metadata": {},
     "output_type": "execute_result"
    }
   ],
   "source": [
    "pm.bisection(lambda x: math.exp(x) - x**2 + 3*x - 2, 0, 1, tol)"
   ]
  },
  {
   "cell_type": "code",
   "execution_count": 19,
   "id": "05069b2a-0169-4922-b4b8-1ba0ede25d7a",
   "metadata": {},
   "outputs": [
    {
     "data": {
      "text/plain": [
       "-0.7981605529785156"
      ]
     },
     "execution_count": 19,
     "metadata": {},
     "output_type": "execute_result"
    }
   ],
   "source": [
    "g = lambda x : 2 * x * math.cos(2*x) - (x + 1)**2\n",
    "pm.bisection(g, -1, 0, tol)"
   ]
  }
 ],
 "metadata": {
  "kernelspec": {
   "display_name": "numerical-analysis",
   "language": "python",
   "name": "numerical-analysis-env"
  },
  "language_info": {
   "codemirror_mode": {
    "name": "ipython",
    "version": 3
   },
   "file_extension": ".py",
   "mimetype": "text/x-python",
   "name": "python",
   "nbconvert_exporter": "python",
   "pygments_lexer": "ipython3",
   "version": "3.13.3"
  }
 },
 "nbformat": 4,
 "nbformat_minor": 5
}
