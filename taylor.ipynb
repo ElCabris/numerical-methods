{
 "cells": [
  {
   "cell_type": "code",
   "execution_count": 1,
   "id": "f2f288b9-d812-48c9-81be-80a8fb6a96c7",
   "metadata": {},
   "outputs": [],
   "source": [
    "import pymethods as pm\n",
    "import sympy as sp"
   ]
  },
  {
   "cell_type": "code",
   "execution_count": 2,
   "id": "09699aca-d5e6-4e34-b46c-eff5d07485da",
   "metadata": {},
   "outputs": [],
   "source": [
    "x = sp.Symbol('x')"
   ]
  },
  {
   "cell_type": "code",
   "execution_count": 3,
   "id": "16ff15b6-f6fc-4557-89e6-d745c287dc9a",
   "metadata": {
    "scrolled": true
   },
   "outputs": [
    {
     "data": {
      "text/latex": [
       "$\\displaystyle e^{2 x} \\sin{\\left(x \\right)}$"
      ],
      "text/plain": [
       "exp(2*x)*sin(x)"
      ]
     },
     "execution_count": 3,
     "metadata": {},
     "output_type": "execute_result"
    }
   ],
   "source": [
    "f = sp.exp(2*x) * sp.sin(x)\n",
    "f"
   ]
  },
  {
   "cell_type": "code",
   "execution_count": 4,
   "id": "1688ad63-7084-4642-84a1-d2b6789b0735",
   "metadata": {},
   "outputs": [
    {
     "data": {
      "text/latex": [
       "$\\displaystyle \\frac{11 x^{3}}{6} + 2 x^{2} + x$"
      ],
      "text/plain": [
       "11*x**3/6 + 2*x**2 + x"
      ]
     },
     "execution_count": 4,
     "metadata": {},
     "output_type": "execute_result"
    }
   ],
   "source": [
    "pm.taylor_polynomial(f, x, 0, 3)"
   ]
  },
  {
   "cell_type": "markdown",
   "id": "588728f6-abbf-422e-a9ef-9eb079727621",
   "metadata": {},
   "source": [
    "## Cota de truncamiento\n",
    "\n",
    "Cuando aproximamos una función $f(x)$ por un polinomio de Taylor de orden $n$ siempre queda un error (o resto) llamado término de Lagrange:\n",
    "$$\n",
    "R_n(x) = f(x) - P_n(x)\n",
    "$$\n",
    "\n",
    "donde:\n",
    "$$\n",
    "R_n(x) = \\frac{f^{n + 1}(\\xi)}{(n + 1)!}(x - a)^{n + 1}, \\xi \\in (a,x)\n",
    "$$\n",
    "\n",
    "---\n",
    "### Interpretación\n",
    "- $P_n(x)$: polinomio de Taylor de grando $n$ alrededor de $a$.\n",
    "- $R_n(x)$: error al truncar despḉues del término $n$.\n",
    "- El problema es que $\\xi$ es un punto desconocido entre $a$ y $x$.\n",
    "Por eso se busca una **cota de truncamiento**:\n",
    "\n",
    "$$\n",
    "|R_n(x)| \\leq \\frac{M}{(n + 1)!}|x - a|^{n + 1}\n",
    "$$\n",
    "donde $M = \\max_{\\xi \\in [a,x]}|f^{(n + 1)}(\\xi)|$."
   ]
  },
  {
   "cell_type": "code",
   "execution_count": 5,
   "id": "1058a9c7-d20a-420f-97c7-4078effb1467",
   "metadata": {},
   "outputs": [
    {
     "data": {
      "text/latex": [
       "$\\displaystyle e^{2 x} \\cos{\\left(2 x \\right)}$"
      ],
      "text/plain": [
       "exp(2*x)*cos(2*x)"
      ]
     },
     "execution_count": 5,
     "metadata": {},
     "output_type": "execute_result"
    }
   ],
   "source": [
    "g = sp.exp(2*x)*sp.cos(2*x)\n",
    "g"
   ]
  },
  {
   "cell_type": "code",
   "execution_count": 6,
   "id": "e16765c7-9ac4-4803-ae81-0f880dba4a14",
   "metadata": {},
   "outputs": [
    {
     "data": {
      "text/latex": [
       "$\\displaystyle - \\frac{8 x^{3}}{3} + 2 x + 1$"
      ],
      "text/plain": [
       "-8*x**3/3 + 2*x + 1"
      ]
     },
     "execution_count": 6,
     "metadata": {},
     "output_type": "execute_result"
    }
   ],
   "source": [
    "P3 = pm.taylor_polynomial(g, x, 0, 3)\n",
    "P3"
   ]
  },
  {
   "cell_type": "code",
   "execution_count": 11,
   "id": "57971ce9-ca88-42e1-ac8a-63ce118371be",
   "metadata": {},
   "outputs": [],
   "source": [
    "deriv, bound = pm.taylor_remainder_bound(f, x, 0, 3, 1)"
   ]
  },
  {
   "cell_type": "code",
   "execution_count": 12,
   "id": "b2cea9ed-52a0-4836-8601-b6c56df8c52e",
   "metadata": {},
   "outputs": [
    {
     "data": {
      "text/latex": [
       "$\\displaystyle \\left(- 7 \\sin{\\left(x \\right)} + 24 \\cos{\\left(x \\right)}\\right) e^{2 x}$"
      ],
      "text/plain": [
       "(-7*sin(x) + 24*cos(x))*exp(2*x)"
      ]
     },
     "execution_count": 12,
     "metadata": {},
     "output_type": "execute_result"
    }
   ],
   "source": [
    "deriv"
   ]
  },
  {
   "cell_type": "code",
   "execution_count": 13,
   "id": "ab64470c-f7b0-49ed-820a-9c67010a4964",
   "metadata": {},
   "outputs": [
    {
     "data": {
      "text/plain": [
       "2.417689314897624"
      ]
     },
     "execution_count": 13,
     "metadata": {},
     "output_type": "execute_result"
    }
   ],
   "source": [
    "bound"
   ]
  },
  {
   "cell_type": "code",
   "execution_count": null,
   "id": "bba62552-19f8-49af-b21e-0ff9f626e58a",
   "metadata": {},
   "outputs": [],
   "source": []
  }
 ],
 "metadata": {
  "kernelspec": {
   "display_name": "numerical-analysis",
   "language": "python",
   "name": "numerical-analysis-env"
  },
  "language_info": {
   "codemirror_mode": {
    "name": "ipython",
    "version": 3
   },
   "file_extension": ".py",
   "mimetype": "text/x-python",
   "name": "python",
   "nbconvert_exporter": "python",
   "pygments_lexer": "ipython3",
   "version": "3.13.3"
  }
 },
 "nbformat": 4,
 "nbformat_minor": 5
}
